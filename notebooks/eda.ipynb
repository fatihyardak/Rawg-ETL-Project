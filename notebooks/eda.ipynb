{
 "cells": [
  {
   "cell_type": "code",
   "execution_count": 15,
   "metadata": {},
   "outputs": [],
   "source": [
    "import pandas as pd \n",
    "import plotly.express as px\n",
    "import seaborn as sns\n",
    "import numpy as np\n",
    "import matplotlib.pyplot as plt\n"
   ]
  },
  {
   "cell_type": "code",
   "execution_count": 55,
   "metadata": {},
   "outputs": [],
   "source": [
    "# Dataframes\n",
    "\n",
    "games = pd.read_csv(\"games.csv\")\n",
    "platforms = pd.read_csv(\"game_platforms.csv\")\n",
    "stores = pd.read_csv(\"game_stores.csv\")"
   ]
  },
  {
   "cell_type": "code",
   "execution_count": 4,
   "metadata": {},
   "outputs": [
    {
     "data": {
      "text/html": [
       "<div>\n",
       "<style scoped>\n",
       "    .dataframe tbody tr th:only-of-type {\n",
       "        vertical-align: middle;\n",
       "    }\n",
       "\n",
       "    .dataframe tbody tr th {\n",
       "        vertical-align: top;\n",
       "    }\n",
       "\n",
       "    .dataframe thead th {\n",
       "        text-align: right;\n",
       "    }\n",
       "</style>\n",
       "<table border=\"1\" class=\"dataframe\">\n",
       "  <thead>\n",
       "    <tr style=\"text-align: right;\">\n",
       "      <th></th>\n",
       "      <th>slug</th>\n",
       "      <th>name</th>\n",
       "      <th>playtime</th>\n",
       "      <th>rating</th>\n",
       "      <th>released</th>\n",
       "    </tr>\n",
       "  </thead>\n",
       "  <tbody>\n",
       "    <tr>\n",
       "      <th>0</th>\n",
       "      <td>satisfactory</td>\n",
       "      <td>Satisfactory</td>\n",
       "      <td>12</td>\n",
       "      <td>4.30</td>\n",
       "      <td>2024-09-11</td>\n",
       "    </tr>\n",
       "    <tr>\n",
       "      <th>1</th>\n",
       "      <td>v-rising</td>\n",
       "      <td>V Rising</td>\n",
       "      <td>7</td>\n",
       "      <td>3.70</td>\n",
       "      <td>2024-05-08</td>\n",
       "    </tr>\n",
       "    <tr>\n",
       "      <th>2</th>\n",
       "      <td>stalker-2</td>\n",
       "      <td>S.T.A.L.K.E.R. 2: Heart of Chornobyl</td>\n",
       "      <td>10</td>\n",
       "      <td>3.84</td>\n",
       "      <td>2024-11-20</td>\n",
       "    </tr>\n",
       "    <tr>\n",
       "      <th>3</th>\n",
       "      <td>senuas-saga-hellblade-ii</td>\n",
       "      <td>Senua's Saga: Hellblade II</td>\n",
       "      <td>0</td>\n",
       "      <td>3.95</td>\n",
       "      <td>2024-05-21</td>\n",
       "    </tr>\n",
       "    <tr>\n",
       "      <th>4</th>\n",
       "      <td>hollow-knight-silksong</td>\n",
       "      <td>Hollow Knight: Silksong</td>\n",
       "      <td>0</td>\n",
       "      <td>4.22</td>\n",
       "      <td>2024-12-31</td>\n",
       "    </tr>\n",
       "  </tbody>\n",
       "</table>\n",
       "</div>"
      ],
      "text/plain": [
       "                       slug                                  name  playtime  \\\n",
       "0              satisfactory                          Satisfactory        12   \n",
       "1                  v-rising                              V Rising         7   \n",
       "2                 stalker-2  S.T.A.L.K.E.R. 2: Heart of Chornobyl        10   \n",
       "3  senuas-saga-hellblade-ii            Senua's Saga: Hellblade II         0   \n",
       "4    hollow-knight-silksong               Hollow Knight: Silksong         0   \n",
       "\n",
       "   rating    released  \n",
       "0    4.30  2024-09-11  \n",
       "1    3.70  2024-05-08  \n",
       "2    3.84  2024-11-20  \n",
       "3    3.95  2024-05-21  \n",
       "4    4.22  2024-12-31  "
      ]
     },
     "execution_count": 4,
     "metadata": {},
     "output_type": "execute_result"
    }
   ],
   "source": [
    "games.head()"
   ]
  },
  {
   "cell_type": "code",
   "execution_count": 5,
   "metadata": {},
   "outputs": [
    {
     "data": {
      "text/html": [
       "<div>\n",
       "<style scoped>\n",
       "    .dataframe tbody tr th:only-of-type {\n",
       "        vertical-align: middle;\n",
       "    }\n",
       "\n",
       "    .dataframe tbody tr th {\n",
       "        vertical-align: top;\n",
       "    }\n",
       "\n",
       "    .dataframe thead th {\n",
       "        text-align: right;\n",
       "    }\n",
       "</style>\n",
       "<table border=\"1\" class=\"dataframe\">\n",
       "  <thead>\n",
       "    <tr style=\"text-align: right;\">\n",
       "      <th></th>\n",
       "      <th>slug</th>\n",
       "      <th>platform</th>\n",
       "    </tr>\n",
       "  </thead>\n",
       "  <tbody>\n",
       "    <tr>\n",
       "      <th>0</th>\n",
       "      <td>satisfactory</td>\n",
       "      <td>PC</td>\n",
       "    </tr>\n",
       "    <tr>\n",
       "      <th>1</th>\n",
       "      <td>v-rising</td>\n",
       "      <td>PC</td>\n",
       "    </tr>\n",
       "    <tr>\n",
       "      <th>2</th>\n",
       "      <td>stalker-2</td>\n",
       "      <td>PC</td>\n",
       "    </tr>\n",
       "    <tr>\n",
       "      <th>3</th>\n",
       "      <td>stalker-2</td>\n",
       "      <td>Xbox Series S/X</td>\n",
       "    </tr>\n",
       "    <tr>\n",
       "      <th>4</th>\n",
       "      <td>senuas-saga-hellblade-ii</td>\n",
       "      <td>PC</td>\n",
       "    </tr>\n",
       "  </tbody>\n",
       "</table>\n",
       "</div>"
      ],
      "text/plain": [
       "                       slug         platform\n",
       "0              satisfactory               PC\n",
       "1                  v-rising               PC\n",
       "2                 stalker-2               PC\n",
       "3                 stalker-2  Xbox Series S/X\n",
       "4  senuas-saga-hellblade-ii               PC"
      ]
     },
     "execution_count": 5,
     "metadata": {},
     "output_type": "execute_result"
    }
   ],
   "source": [
    "platforms.head()"
   ]
  },
  {
   "cell_type": "code",
   "execution_count": 6,
   "metadata": {},
   "outputs": [
    {
     "data": {
      "text/html": [
       "<div>\n",
       "<style scoped>\n",
       "    .dataframe tbody tr th:only-of-type {\n",
       "        vertical-align: middle;\n",
       "    }\n",
       "\n",
       "    .dataframe tbody tr th {\n",
       "        vertical-align: top;\n",
       "    }\n",
       "\n",
       "    .dataframe thead th {\n",
       "        text-align: right;\n",
       "    }\n",
       "</style>\n",
       "<table border=\"1\" class=\"dataframe\">\n",
       "  <thead>\n",
       "    <tr style=\"text-align: right;\">\n",
       "      <th></th>\n",
       "      <th>slug</th>\n",
       "      <th>store</th>\n",
       "    </tr>\n",
       "  </thead>\n",
       "  <tbody>\n",
       "    <tr>\n",
       "      <th>0</th>\n",
       "      <td>satisfactory</td>\n",
       "      <td>Steam</td>\n",
       "    </tr>\n",
       "    <tr>\n",
       "      <th>1</th>\n",
       "      <td>satisfactory</td>\n",
       "      <td>Epic Games</td>\n",
       "    </tr>\n",
       "    <tr>\n",
       "      <th>2</th>\n",
       "      <td>v-rising</td>\n",
       "      <td>Steam</td>\n",
       "    </tr>\n",
       "    <tr>\n",
       "      <th>3</th>\n",
       "      <td>stalker-2</td>\n",
       "      <td>Steam</td>\n",
       "    </tr>\n",
       "    <tr>\n",
       "      <th>4</th>\n",
       "      <td>stalker-2</td>\n",
       "      <td>Xbox Store</td>\n",
       "    </tr>\n",
       "  </tbody>\n",
       "</table>\n",
       "</div>"
      ],
      "text/plain": [
       "           slug       store\n",
       "0  satisfactory       Steam\n",
       "1  satisfactory  Epic Games\n",
       "2      v-rising       Steam\n",
       "3     stalker-2       Steam\n",
       "4     stalker-2  Xbox Store"
      ]
     },
     "execution_count": 6,
     "metadata": {},
     "output_type": "execute_result"
    }
   ],
   "source": [
    "stores.head()"
   ]
  },
  {
   "cell_type": "markdown",
   "metadata": {},
   "source": [
    "### Missing Value Check"
   ]
  },
  {
   "cell_type": "code",
   "execution_count": 7,
   "metadata": {},
   "outputs": [
    {
     "data": {
      "text/plain": [
       "np.int64(0)"
      ]
     },
     "execution_count": 7,
     "metadata": {},
     "output_type": "execute_result"
    }
   ],
   "source": [
    "games.isna().sum().sum()"
   ]
  },
  {
   "cell_type": "code",
   "execution_count": 8,
   "metadata": {},
   "outputs": [
    {
     "data": {
      "text/plain": [
       "np.int64(0)"
      ]
     },
     "execution_count": 8,
     "metadata": {},
     "output_type": "execute_result"
    }
   ],
   "source": [
    "stores.isna().sum().sum()"
   ]
  },
  {
   "cell_type": "code",
   "execution_count": 9,
   "metadata": {},
   "outputs": [
    {
     "data": {
      "text/plain": [
       "np.int64(0)"
      ]
     },
     "execution_count": 9,
     "metadata": {},
     "output_type": "execute_result"
    }
   ],
   "source": [
    "platforms.isna().sum().sum()"
   ]
  },
  {
   "cell_type": "markdown",
   "metadata": {},
   "source": [
    "### Value Counts "
   ]
  },
  {
   "cell_type": "code",
   "execution_count": 13,
   "metadata": {},
   "outputs": [
    {
     "data": {
      "text/html": [
       "<div>\n",
       "<style scoped>\n",
       "    .dataframe tbody tr th:only-of-type {\n",
       "        vertical-align: middle;\n",
       "    }\n",
       "\n",
       "    .dataframe tbody tr th {\n",
       "        vertical-align: top;\n",
       "    }\n",
       "\n",
       "    .dataframe thead th {\n",
       "        text-align: right;\n",
       "    }\n",
       "</style>\n",
       "<table border=\"1\" class=\"dataframe\">\n",
       "  <thead>\n",
       "    <tr style=\"text-align: right;\">\n",
       "      <th></th>\n",
       "      <th>platform</th>\n",
       "      <th>count</th>\n",
       "    </tr>\n",
       "  </thead>\n",
       "  <tbody>\n",
       "    <tr>\n",
       "      <th>0</th>\n",
       "      <td>PC</td>\n",
       "      <td>94</td>\n",
       "    </tr>\n",
       "    <tr>\n",
       "      <th>1</th>\n",
       "      <td>PlayStation 5</td>\n",
       "      <td>44</td>\n",
       "    </tr>\n",
       "    <tr>\n",
       "      <th>2</th>\n",
       "      <td>Xbox Series S/X</td>\n",
       "      <td>36</td>\n",
       "    </tr>\n",
       "    <tr>\n",
       "      <th>3</th>\n",
       "      <td>Xbox One</td>\n",
       "      <td>14</td>\n",
       "    </tr>\n",
       "    <tr>\n",
       "      <th>4</th>\n",
       "      <td>macOS</td>\n",
       "      <td>13</td>\n",
       "    </tr>\n",
       "    <tr>\n",
       "      <th>5</th>\n",
       "      <td>PlayStation 4</td>\n",
       "      <td>13</td>\n",
       "    </tr>\n",
       "    <tr>\n",
       "      <th>6</th>\n",
       "      <td>Nintendo Switch</td>\n",
       "      <td>12</td>\n",
       "    </tr>\n",
       "    <tr>\n",
       "      <th>7</th>\n",
       "      <td>Linux</td>\n",
       "      <td>9</td>\n",
       "    </tr>\n",
       "    <tr>\n",
       "      <th>8</th>\n",
       "      <td>Web</td>\n",
       "      <td>1</td>\n",
       "    </tr>\n",
       "    <tr>\n",
       "      <th>9</th>\n",
       "      <td>iOS</td>\n",
       "      <td>1</td>\n",
       "    </tr>\n",
       "    <tr>\n",
       "      <th>10</th>\n",
       "      <td>Android</td>\n",
       "      <td>1</td>\n",
       "    </tr>\n",
       "  </tbody>\n",
       "</table>\n",
       "</div>"
      ],
      "text/plain": [
       "           platform  count\n",
       "0                PC     94\n",
       "1     PlayStation 5     44\n",
       "2   Xbox Series S/X     36\n",
       "3          Xbox One     14\n",
       "4             macOS     13\n",
       "5     PlayStation 4     13\n",
       "6   Nintendo Switch     12\n",
       "7             Linux      9\n",
       "8               Web      1\n",
       "9               iOS      1\n",
       "10          Android      1"
      ]
     },
     "execution_count": 13,
     "metadata": {},
     "output_type": "execute_result"
    }
   ],
   "source": [
    "platforms[\"platform\"].value_counts().reset_index()"
   ]
  },
  {
   "cell_type": "markdown",
   "metadata": {},
   "source": [
    "### Platform Distribution\n",
    "PC emerges as the dominant platform with the highest number of games, followed by PlayStation 5 and Xbox Series S/X. Other platforms, such as macOS, Nintendo Switch, and Linux, have significantly fewer games."
   ]
  },
  {
   "cell_type": "code",
   "execution_count": 48,
   "metadata": {},
   "outputs": [
    {
     "name": "stderr",
     "output_type": "stream",
     "text": [
      "C:\\Users\\yx\\AppData\\Local\\Temp\\ipykernel_9644\\700629744.py:2: FutureWarning:\n",
      "\n",
      "\n",
      "\n",
      "Passing `palette` without assigning `hue` is deprecated and will be removed in v0.14.0. Assign the `x` variable to `hue` and set `legend=False` for the same effect.\n",
      "\n",
      "\n"
     ]
    },
    {
     "data": {
      "image/png": "[encoded data removed]",
      "text/plain": [
       "<Figure size 1000x600 with 1 Axes>"
      ]
     },
     "metadata": {},
     "output_type": "display_data"
    }
   ],
   "source": [
    "plt.figure(figsize=(10,6))\n",
    "sns.countplot(x=\"platform\", data=platforms,\n",
    "               order = platforms['platform'].value_counts().index,\n",
    "               palette = \"muted\"\n",
    "        )\n",
    "plt.title('Platform Distribution')\n",
    "plt.xlabel('Platform')\n",
    "plt.ylabel('Count')\n",
    "plt.xticks(rotation=45)\n",
    "plt.show()\n"
   ]
  },
  {
   "cell_type": "markdown",
   "metadata": {},
   "source": [
    "### Store Distribution\n",
    "Here’s a quick look at where the games are available. Steam is clearly leading by a huge margin, hosting the majority of the games. PlayStation Store, GOG, and Epic Games follow behind, but their numbers are much lower. Stores like Nintendo Store, Itch.io, and others seem to have only a handful of games. This shows Steam’s dominance in the gaming market. "
   ]
  },
  {
   "cell_type": "code",
   "execution_count": 49,
   "metadata": {},
   "outputs": [
    {
     "name": "stderr",
     "output_type": "stream",
     "text": [
      "C:\\Users\\yx\\AppData\\Local\\Temp\\ipykernel_9644\\823135885.py:2: FutureWarning:\n",
      "\n",
      "\n",
      "\n",
      "Passing `palette` without assigning `hue` is deprecated and will be removed in v0.14.0. Assign the `x` variable to `hue` and set `legend=False` for the same effect.\n",
      "\n",
      "\n"
     ]
    },
    {
     "data": {
      "image/png": "[encoded data removed]",
      "text/plain": [
       "<Figure size 1000x600 with 1 Axes>"
      ]
     },
     "metadata": {},
     "output_type": "display_data"
    }
   ],
   "source": [
    "plt.figure(figsize=(10,6))\n",
    "sns.countplot(x=\"store\", data=stores,\n",
    "               order = stores['store'].value_counts().index,\n",
    "               palette = \"muted\"\n",
    "        )\n",
    "plt.title('Store Distribution')\n",
    "plt.xlabel('Store')\n",
    "plt.ylabel('Count')\n",
    "plt.xticks(rotation=30)\n",
    "plt.show()"
   ]
  },
  {
   "cell_type": "code",
   "execution_count": 63,
   "metadata": {},
   "outputs": [],
   "source": [
    "games[\"month\"] = games[\"released\"].str.split(\"-\").str[1]\n",
    "month_mapping = {\n",
    "    \"01\": \"January\",\n",
    "    \"02\": \"February\",\n",
    "    \"03\": \"March\",\n",
    "    \"04\": \"April\",\n",
    "    \"05\": \"May\",\n",
    "    \"06\": \"June\",\n",
    "    \"07\": \"July\",\n",
    "    \"08\": \"August\",\n",
    "    \"09\": \"September\",\n",
    "    \"10\": \"October\",\n",
    "    \"11\": \"November\",\n",
    "    \"12\": \"December\"\n",
    "}\n",
    "\n",
    "# Replace month numbers with month names in the 'month' column\n",
    "games[\"month\"] = games[\"month\"].map(month_mapping)"
   ]
  },
  {
   "cell_type": "markdown",
   "metadata": {},
   "source": [
    "### Games Count by Month\n",
    "This chart shows the distribution of game releases across months. February stands out as the busiest month for game releases, while November has the least activity. The data suggests that certain months, like February, October, and May, are popular for game launches, potentially aligning with industry trends or marketing strategies.\n"
   ]
  },
  {
   "cell_type": "code",
   "execution_count": 64,
   "metadata": {},
   "outputs": [
    {
     "name": "stderr",
     "output_type": "stream",
     "text": [
      "C:\\Users\\yx\\AppData\\Local\\Temp\\ipykernel_9644\\3481891658.py:2: FutureWarning:\n",
      "\n",
      "\n",
      "\n",
      "Passing `palette` without assigning `hue` is deprecated and will be removed in v0.14.0. Assign the `x` variable to `hue` and set `legend=False` for the same effect.\n",
      "\n",
      "\n"
     ]
    },
    {
     "data": {
      "image/png": "[encoded data removed]",
      "text/plain": [
       "<Figure size 1000x600 with 1 Axes>"
      ]
     },
     "metadata": {},
     "output_type": "display_data"
    }
   ],
   "source": [
    "plt.figure(figsize=(10,6))\n",
    "sns.countplot(x=\"month\", data=games,\n",
    "               order = games['month'].value_counts().index,\n",
    "               palette = \"muted\"\n",
    "        )\n",
    "plt.title('Games Count by Month')\n",
    "plt.xlabel('Month')\n",
    "plt.ylabel('Count')\n",
    "plt.xticks(rotation=30)\n",
    "plt.show()\n"
   ]
  },
  {
   "cell_type": "code",
   "execution_count": null,
   "metadata": {},
   "outputs": [],
   "source": []
  },
  {
   "cell_type": "markdown",
   "metadata": {},
   "source": [
    "## Merge Dataframes\n"
   ]
  },
  {
   "cell_type": "code",
   "execution_count": 67,
   "metadata": {},
   "outputs": [
    {
     "data": {
      "text/html": [
       "<div>\n",
       "<style scoped>\n",
       "    .dataframe tbody tr th:only-of-type {\n",
       "        vertical-align: middle;\n",
       "    }\n",
       "\n",
       "    .dataframe tbody tr th {\n",
       "        vertical-align: top;\n",
       "    }\n",
       "\n",
       "    .dataframe thead th {\n",
       "        text-align: right;\n",
       "    }\n",
       "</style>\n",
       "<table border=\"1\" class=\"dataframe\">\n",
       "  <thead>\n",
       "    <tr style=\"text-align: right;\">\n",
       "      <th></th>\n",
       "      <th>slug</th>\n",
       "      <th>name</th>\n",
       "      <th>playtime</th>\n",
       "      <th>rating</th>\n",
       "      <th>released</th>\n",
       "      <th>month</th>\n",
       "      <th>platform</th>\n",
       "      <th>store</th>\n",
       "    </tr>\n",
       "  </thead>\n",
       "  <tbody>\n",
       "    <tr>\n",
       "      <th>0</th>\n",
       "      <td>satisfactory</td>\n",
       "      <td>Satisfactory</td>\n",
       "      <td>12</td>\n",
       "      <td>4.30</td>\n",
       "      <td>2024-09-11</td>\n",
       "      <td>September</td>\n",
       "      <td>PC</td>\n",
       "      <td>Steam</td>\n",
       "    </tr>\n",
       "    <tr>\n",
       "      <th>1</th>\n",
       "      <td>satisfactory</td>\n",
       "      <td>Satisfactory</td>\n",
       "      <td>12</td>\n",
       "      <td>4.30</td>\n",
       "      <td>2024-09-11</td>\n",
       "      <td>September</td>\n",
       "      <td>PC</td>\n",
       "      <td>Epic Games</td>\n",
       "    </tr>\n",
       "    <tr>\n",
       "      <th>2</th>\n",
       "      <td>v-rising</td>\n",
       "      <td>V Rising</td>\n",
       "      <td>7</td>\n",
       "      <td>3.70</td>\n",
       "      <td>2024-05-08</td>\n",
       "      <td>May</td>\n",
       "      <td>PC</td>\n",
       "      <td>Steam</td>\n",
       "    </tr>\n",
       "    <tr>\n",
       "      <th>3</th>\n",
       "      <td>stalker-2</td>\n",
       "      <td>S.T.A.L.K.E.R. 2: Heart of Chornobyl</td>\n",
       "      <td>10</td>\n",
       "      <td>3.84</td>\n",
       "      <td>2024-11-20</td>\n",
       "      <td>November</td>\n",
       "      <td>PC</td>\n",
       "      <td>Steam</td>\n",
       "    </tr>\n",
       "    <tr>\n",
       "      <th>4</th>\n",
       "      <td>stalker-2</td>\n",
       "      <td>S.T.A.L.K.E.R. 2: Heart of Chornobyl</td>\n",
       "      <td>10</td>\n",
       "      <td>3.84</td>\n",
       "      <td>2024-11-20</td>\n",
       "      <td>November</td>\n",
       "      <td>PC</td>\n",
       "      <td>Xbox Store</td>\n",
       "    </tr>\n",
       "  </tbody>\n",
       "</table>\n",
       "</div>"
      ],
      "text/plain": [
       "           slug                                  name  playtime  rating  \\\n",
       "0  satisfactory                          Satisfactory        12    4.30   \n",
       "1  satisfactory                          Satisfactory        12    4.30   \n",
       "2      v-rising                              V Rising         7    3.70   \n",
       "3     stalker-2  S.T.A.L.K.E.R. 2: Heart of Chornobyl        10    3.84   \n",
       "4     stalker-2  S.T.A.L.K.E.R. 2: Heart of Chornobyl        10    3.84   \n",
       "\n",
       "     released      month platform       store  \n",
       "0  2024-09-11  September       PC       Steam  \n",
       "1  2024-09-11  September       PC  Epic Games  \n",
       "2  2024-05-08        May       PC       Steam  \n",
       "3  2024-11-20   November       PC       Steam  \n",
       "4  2024-11-20   November       PC  Xbox Store  "
      ]
     },
     "execution_count": 67,
     "metadata": {},
     "output_type": "execute_result"
    }
   ],
   "source": [
    "data = pd.merge(games, platforms, on=\"slug\", how=\"inner\")\n",
    "data = pd.merge(data, stores, on=\"slug\", how=\"inner\")   \n",
    "data.head()"
   ]
  },
  {
   "cell_type": "markdown",
   "metadata": {},
   "source": [
    "### Average Ratings By Platforms"
   ]
  },
  {
   "cell_type": "code",
   "execution_count": 78,
   "metadata": {},
   "outputs": [],
   "source": [
    "platform_rating = data.groupby(\"platform\")[\"rating\"].mean().sort_values(ascending=False).reset_index()"
   ]
  },
  {
   "cell_type": "code",
   "execution_count": 84,
   "metadata": {},
   "outputs": [
    {
     "data": {
      "text/html": [
       "<style type=\"text/css\">\n",
       "#T_3204a_row0_col1 {\n",
       "  background-color: #023858;\n",
       "  color: #f1f1f1;\n",
       "}\n",
       "#T_3204a_row1_col1 {\n",
       "  background-color: #034369;\n",
       "  color: #f1f1f1;\n",
       "}\n",
       "#T_3204a_row2_col1 {\n",
       "  background-color: #03476f;\n",
       "  color: #f1f1f1;\n",
       "}\n",
       "#T_3204a_row3_col1 {\n",
       "  background-color: #046097;\n",
       "  color: #f1f1f1;\n",
       "}\n",
       "#T_3204a_row4_col1 {\n",
       "  background-color: #056ba9;\n",
       "  color: #f1f1f1;\n",
       "}\n",
       "#T_3204a_row5_col1 {\n",
       "  background-color: #1278b4;\n",
       "  color: #f1f1f1;\n",
       "}\n",
       "#T_3204a_row6_col1 {\n",
       "  background-color: #2c89bd;\n",
       "  color: #f1f1f1;\n",
       "}\n",
       "#T_3204a_row7_col1 {\n",
       "  background-color: #3b92c1;\n",
       "  color: #f1f1f1;\n",
       "}\n",
       "#T_3204a_row8_col1, #T_3204a_row9_col1 {\n",
       "  background-color: #a2bcda;\n",
       "  color: #000000;\n",
       "}\n",
       "#T_3204a_row10_col1 {\n",
       "  background-color: #fff7fb;\n",
       "  color: #000000;\n",
       "}\n",
       "</style>\n",
       "<table id=\"T_3204a\">\n",
       "  <caption>Average Ratings by Platforms</caption>\n",
       "  <thead>\n",
       "    <tr>\n",
       "      <th class=\"blank level0\" >&nbsp;</th>\n",
       "      <th id=\"T_3204a_level0_col0\" class=\"col_heading level0 col0\" >platform</th>\n",
       "      <th id=\"T_3204a_level0_col1\" class=\"col_heading level0 col1\" >rating</th>\n",
       "    </tr>\n",
       "  </thead>\n",
       "  <tbody>\n",
       "    <tr>\n",
       "      <th id=\"T_3204a_level0_row0\" class=\"row_heading level0 row0\" >0</th>\n",
       "      <td id=\"T_3204a_row0_col0\" class=\"data row0 col0\" >PlayStation 5</td>\n",
       "      <td id=\"T_3204a_row0_col1\" class=\"data row0 col1\" >3.719140</td>\n",
       "    </tr>\n",
       "    <tr>\n",
       "      <th id=\"T_3204a_level0_row1\" class=\"row_heading level0 row1\" >1</th>\n",
       "      <td id=\"T_3204a_row1_col0\" class=\"data row1 col0\" >Xbox Series S/X</td>\n",
       "      <td id=\"T_3204a_row1_col1\" class=\"data row1 col1\" >3.682353</td>\n",
       "    </tr>\n",
       "    <tr>\n",
       "      <th id=\"T_3204a_level0_row2\" class=\"row_heading level0 row2\" >2</th>\n",
       "      <td id=\"T_3204a_row2_col0\" class=\"data row2 col0\" >PlayStation 4</td>\n",
       "      <td id=\"T_3204a_row2_col1\" class=\"data row2 col1\" >3.670000</td>\n",
       "    </tr>\n",
       "    <tr>\n",
       "      <th id=\"T_3204a_level0_row3\" class=\"row_heading level0 row3\" >3</th>\n",
       "      <td id=\"T_3204a_row3_col0\" class=\"data row3 col0\" >Nintendo Switch</td>\n",
       "      <td id=\"T_3204a_row3_col1\" class=\"data row3 col1\" >3.580323</td>\n",
       "    </tr>\n",
       "    <tr>\n",
       "      <th id=\"T_3204a_level0_row4\" class=\"row_heading level0 row4\" >4</th>\n",
       "      <td id=\"T_3204a_row4_col0\" class=\"data row4 col0\" >Xbox One</td>\n",
       "      <td id=\"T_3204a_row4_col1\" class=\"data row4 col1\" >3.525455</td>\n",
       "    </tr>\n",
       "    <tr>\n",
       "      <th id=\"T_3204a_level0_row5\" class=\"row_heading level0 row5\" >5</th>\n",
       "      <td id=\"T_3204a_row5_col0\" class=\"data row5 col0\" >PC</td>\n",
       "      <td id=\"T_3204a_row5_col1\" class=\"data row5 col1\" >3.475402</td>\n",
       "    </tr>\n",
       "    <tr>\n",
       "      <th id=\"T_3204a_level0_row6\" class=\"row_heading level0 row6\" >6</th>\n",
       "      <td id=\"T_3204a_row6_col0\" class=\"data row6 col0\" >macOS</td>\n",
       "      <td id=\"T_3204a_row6_col1\" class=\"data row6 col1\" >3.419231</td>\n",
       "    </tr>\n",
       "    <tr>\n",
       "      <th id=\"T_3204a_level0_row7\" class=\"row_heading level0 row7\" >7</th>\n",
       "      <td id=\"T_3204a_row7_col0\" class=\"data row7 col0\" >Web</td>\n",
       "      <td id=\"T_3204a_row7_col1\" class=\"data row7 col1\" >3.390000</td>\n",
       "    </tr>\n",
       "    <tr>\n",
       "      <th id=\"T_3204a_level0_row8\" class=\"row_heading level0 row8\" >8</th>\n",
       "      <td id=\"T_3204a_row8_col0\" class=\"data row8 col0\" >Android</td>\n",
       "      <td id=\"T_3204a_row8_col1\" class=\"data row8 col1\" >3.190000</td>\n",
       "    </tr>\n",
       "    <tr>\n",
       "      <th id=\"T_3204a_level0_row9\" class=\"row_heading level0 row9\" >9</th>\n",
       "      <td id=\"T_3204a_row9_col0\" class=\"data row9 col0\" >iOS</td>\n",
       "      <td id=\"T_3204a_row9_col1\" class=\"data row9 col1\" >3.190000</td>\n",
       "    </tr>\n",
       "    <tr>\n",
       "      <th id=\"T_3204a_level0_row10\" class=\"row_heading level0 row10\" >10</th>\n",
       "      <td id=\"T_3204a_row10_col0\" class=\"data row10 col0\" >Linux</td>\n",
       "      <td id=\"T_3204a_row10_col1\" class=\"data row10 col1\" >2.861250</td>\n",
       "    </tr>\n",
       "  </tbody>\n",
       "</table>\n"
      ],
      "text/plain": [
       "<pandas.io.formats.style.Styler at 0x21dc0c44e30>"
      ]
     },
     "execution_count": 84,
     "metadata": {},
     "output_type": "execute_result"
    }
   ],
   "source": [
    "styled_df = platform_rating.style.background_gradient().set_caption(\"Average Ratings by Platforms\")\n",
    "styled_df"
   ]
  },
  {
   "cell_type": "markdown",
   "metadata": {},
   "source": [
    "We can say that players like console games more."
   ]
  },
  {
   "cell_type": "markdown",
   "metadata": {},
   "source": [
    "### Average Playtime By Playforms"
   ]
  },
  {
   "cell_type": "code",
   "execution_count": 92,
   "metadata": {},
   "outputs": [],
   "source": [
    "avg_playtime = data.groupby(\"platform\")[\"playtime\"].mean().sort_values(ascending=False).reset_index().head(6)"
   ]
  },
  {
   "cell_type": "code",
   "execution_count": 93,
   "metadata": {},
   "outputs": [
    {
     "data": {
      "text/html": [
       "<style type=\"text/css\">\n",
       "#T_95145_row0_col1 {\n",
       "  background-color: #023858;\n",
       "  color: #f1f1f1;\n",
       "}\n",
       "#T_95145_row1_col1 {\n",
       "  background-color: #6fa7ce;\n",
       "  color: #f1f1f1;\n",
       "}\n",
       "#T_95145_row2_col1 {\n",
       "  background-color: #81aed2;\n",
       "  color: #f1f1f1;\n",
       "}\n",
       "#T_95145_row3_col1 {\n",
       "  background-color: #b3c3de;\n",
       "  color: #000000;\n",
       "}\n",
       "#T_95145_row4_col1 {\n",
       "  background-color: #e1dfed;\n",
       "  color: #000000;\n",
       "}\n",
       "#T_95145_row5_col1 {\n",
       "  background-color: #fff7fb;\n",
       "  color: #000000;\n",
       "}\n",
       "</style>\n",
       "<table id=\"T_95145\">\n",
       "  <caption>Average Playtime by Platforms</caption>\n",
       "  <thead>\n",
       "    <tr>\n",
       "      <th class=\"blank level0\" >&nbsp;</th>\n",
       "      <th id=\"T_95145_level0_col0\" class=\"col_heading level0 col0\" >platform</th>\n",
       "      <th id=\"T_95145_level0_col1\" class=\"col_heading level0 col1\" >playtime</th>\n",
       "    </tr>\n",
       "  </thead>\n",
       "  <tbody>\n",
       "    <tr>\n",
       "      <th id=\"T_95145_level0_row0\" class=\"row_heading level0 row0\" >0</th>\n",
       "      <td id=\"T_95145_row0_col0\" class=\"data row0 col0\" >PlayStation 4</td>\n",
       "      <td id=\"T_95145_row0_col1\" class=\"data row0 col1\" >12.870968</td>\n",
       "    </tr>\n",
       "    <tr>\n",
       "      <th id=\"T_95145_level0_row1\" class=\"row_heading level0 row1\" >1</th>\n",
       "      <td id=\"T_95145_row1_col0\" class=\"data row1 col0\" >Xbox One</td>\n",
       "      <td id=\"T_95145_row1_col1\" class=\"data row1 col1\" >9.363636</td>\n",
       "    </tr>\n",
       "    <tr>\n",
       "      <th id=\"T_95145_level0_row2\" class=\"row_heading level0 row2\" >2</th>\n",
       "      <td id=\"T_95145_row2_col0\" class=\"data row2 col0\" >Xbox Series S/X</td>\n",
       "      <td id=\"T_95145_row2_col1\" class=\"data row2 col1\" >9.070588</td>\n",
       "    </tr>\n",
       "    <tr>\n",
       "      <th id=\"T_95145_level0_row3\" class=\"row_heading level0 row3\" >3</th>\n",
       "      <td id=\"T_95145_row3_col0\" class=\"data row3 col0\" >PlayStation 5</td>\n",
       "      <td id=\"T_95145_row3_col1\" class=\"data row3 col1\" >8.139785</td>\n",
       "    </tr>\n",
       "    <tr>\n",
       "      <th id=\"T_95145_level0_row4\" class=\"row_heading level0 row4\" >4</th>\n",
       "      <td id=\"T_95145_row4_col0\" class=\"data row4 col0\" >PC</td>\n",
       "      <td id=\"T_95145_row4_col1\" class=\"data row4 col1\" >6.977011</td>\n",
       "    </tr>\n",
       "    <tr>\n",
       "      <th id=\"T_95145_level0_row5\" class=\"row_heading level0 row5\" >5</th>\n",
       "      <td id=\"T_95145_row5_col0\" class=\"data row5 col0\" >Nintendo Switch</td>\n",
       "      <td id=\"T_95145_row5_col1\" class=\"data row5 col1\" >5.741935</td>\n",
       "    </tr>\n",
       "  </tbody>\n",
       "</table>\n"
      ],
      "text/plain": [
       "<pandas.io.formats.style.Styler at 0x21dc30f0f20>"
      ]
     },
     "execution_count": 93,
     "metadata": {},
     "output_type": "execute_result"
    }
   ],
   "source": [
    "avg_playtime.style.background_gradient().set_caption(\"Average Playtime by Platforms\")"
   ]
  },
  {
   "cell_type": "code",
   "execution_count": null,
   "metadata": {},
   "outputs": [],
   "source": []
  }
 ],
 "metadata": {
  "kernelspec": {
   "display_name": "Python 3 (ipykernel)",
   "language": "python",
   "name": "python3"
  },
  "language_info": {
   "codemirror_mode": {
    "name": "ipython",
    "version": 3
   },
   "file_extension": ".py",
   "mimetype": "text/x-python",
   "name": "python",
   "nbconvert_exporter": "python",
   "pygments_lexer": "ipython3",
   "version": "3.11.5"
  }
 },
 "nbformat": 4,
 "nbformat_minor": 2
}
